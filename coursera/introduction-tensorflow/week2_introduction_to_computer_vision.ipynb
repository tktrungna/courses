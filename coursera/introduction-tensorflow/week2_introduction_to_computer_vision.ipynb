{
 "cells": [
  {
   "cell_type": "markdown",
   "metadata": {},
   "source": [
    "# Beyond Hello World, A Computer Vision Example"
   ]
  },
  {
   "cell_type": "code",
   "execution_count": 10,
   "metadata": {},
   "outputs": [
    {
     "name": "stdout",
     "output_type": "stream",
     "text": [
      "2.0.0 2.2.4-tf\n"
     ]
    }
   ],
   "source": [
    "from __future__ import division, print_function, unicode_literals\n",
    "\n",
    "import tensorflow as tf\n",
    "import numpy as np\n",
    "from tensorflow import keras\n",
    "import matplotlib.pyplot as plt\n",
    "\n",
    "print(tf.__version__, keras.__version__)"
   ]
  },
  {
   "cell_type": "markdown",
   "metadata": {},
   "source": [
    "## Loading MNIST Fashion dataset"
   ]
  },
  {
   "cell_type": "code",
   "execution_count": 34,
   "metadata": {},
   "outputs": [
    {
     "data": {
      "text/plain": [
       "<matplotlib.image.AxesImage at 0x13fe56c88>"
      ]
     },
     "execution_count": 34,
     "metadata": {},
     "output_type": "execute_result"
    },
    {
     "data": {
      "image/png": "[encoded data removed]",
      "text/plain": [
       "<Figure size 432x288 with 1 Axes>"
      ]
     },
     "metadata": {
      "needs_background": "light"
     },
     "output_type": "display_data"
    }
   ],
   "source": [
    "mnist = keras.datasets.fashion_mnist\n",
    "(training_images, training_labels), (test_images, test_labels) = \\\n",
    "    mnist.load_data()\n",
    "training_images, test_images = training_images/255.0, test_images/255.0\n",
    "plt.imshow(training_images[0])"
   ]
  },
  {
   "cell_type": "markdown",
   "metadata": {},
   "source": [
    "## Define model\n",
    "**Sequential** defines a sequence of layers in the NN\n",
    "\n",
    "**Flatten** convert 2 dimensional set to 1 dimensional\n",
    "\n",
    "**Dense** Adds a layer of neurons\n",
    "\n",
    "**Activation functions** Relu: passes values 0  or greater to the next layer, Softmax: pick the biggest one in a set of values"
   ]
  },
  {
   "cell_type": "code",
   "execution_count": 35,
   "metadata": {},
   "outputs": [
    {
     "name": "stdout",
     "output_type": "stream",
     "text": [
      "Train on 60000 samples\n",
      "Epoch 1/5\n",
      "60000/60000 [==============================] - 9s 149us/sample - loss: 0.4714 - accuracy: 0.8303 - loss: 0.4741 - ac\n",
      "Epoch 2/5\n",
      "60000/60000 [==============================] - 7s 118us/sample - loss: 0.3565 - accuracy: 0.8690\n",
      "Epoch 3/5\n",
      "60000/60000 [==============================] - 8s 126us/sample - loss: 0.3215 - accuracy: 0.8811\n",
      "Epoch 4/5\n",
      "60000/60000 [==============================] - 7s 115us/sample - loss: 0.2970 - accuracy: 0.8896\n",
      "Epoch 5/5\n",
      "60000/60000 [==============================] - 7s 112us/sample - loss: 0.2796 - accuracy: 0.8967\n",
      "[0.3424292964696884, 0.8819]\n",
      "[6.7345741e-07 6.5835382e-09 2.0648210e-09 1.1012987e-09 2.5582935e-08\n",
      " 3.9033624e-04 5.9741083e-09 3.4409638e-03 1.4643876e-08 9.9616796e-01] 9\n"
     ]
    }
   ],
   "source": [
    "model = keras.models.Sequential([\n",
    "    keras.layers.Flatten(),\n",
    "    keras.layers.Dense(1024, activation=tf.nn.relu),\n",
    "    keras.layers.Dense(10, activation=tf.nn.softmax)\n",
    "])\n",
    "model.compile(optimizer=tf.optimizers.Adam(),\n",
    "              loss='sparse_categorical_crossentropy',\n",
    "              metrics=['accuracy'])\n",
    "model.fit(training_images, training_labels, epochs=5)\n",
    "print(model.evaluate(test_images, test_labels, verbose=0))\n",
    "\n",
    "classifications = model.predict(test_images)\n",
    "print(classifications[0], test_labels[0])"
   ]
  },
  {
   "cell_type": "markdown",
   "metadata": {},
   "source": [
    "## Callback for early stop"
   ]
  },
  {
   "cell_type": "code",
   "execution_count": 39,
   "metadata": {},
   "outputs": [
    {
     "name": "stdout",
     "output_type": "stream",
     "text": [
      "2.0.0\n",
      "Train on 60000 samples\n",
      "Epoch 1/15\n",
      "60000/60000 [==============================] - 6s 98us/sample - loss: 0.4766\n",
      "Epoch 2/15\n",
      "60000/60000 [==============================] - 9s 158us/sample - loss: 0.3600\n",
      "Epoch 3/15\n",
      "60000/60000 [==============================] - 7s 112us/sample - loss: 0.3211\n",
      "Epoch 4/15\n",
      "60000/60000 [==============================] - 6s 94us/sample - loss: 0.2978\n",
      "Epoch 5/15\n",
      "60000/60000 [==============================] - 6s 96us/sample - loss: 0.2810\n",
      "Epoch 6/15\n",
      "60000/60000 [==============================] - 6s 106us/sample - loss: 0.2653\n",
      "Epoch 7/15\n",
      "60000/60000 [==============================] - 6s 103us/sample - loss: 0.2536\n",
      "Epoch 8/15\n",
      "60000/60000 [==============================] - 6s 97us/sample - loss: 0.2416\n",
      "Epoch 9/15\n",
      "60000/60000 [==============================] - 6s 98us/sample - loss: 0.2323\n",
      "Epoch 10/15\n",
      "60000/60000 [==============================] - 6s 100us/sample - loss: 0.2231\n",
      "Epoch 11/15\n",
      "60000/60000 [==============================] - 6s 99us/sample - loss: 0.2157\n",
      "Epoch 12/15\n",
      "60000/60000 [==============================] - 6s 99us/sample - loss: 0.2032\n",
      "Epoch 13/15\n",
      "59584/60000 [============================>.] - ETA: 0s - loss: 0.1976\n",
      "Reached 60% accuracy so cancelling training!\n",
      "60000/60000 [==============================] - 6s 101us/sample - loss: 0.1979\n",
      "0.3423866744577885\n",
      "[2.8758804e-11 1.3438843e-13 5.4785161e-12 6.9350235e-16 3.9661836e-11\n",
      " 7.2443711e-08 8.0385412e-12 5.8304472e-04 6.5301918e-12 9.9941695e-01] 9\n"
     ]
    }
   ],
   "source": [
    "import tensorflow as tf\n",
    "print(tf.__version__)\n",
    "\n",
    "class myCallback(tf.keras.callbacks.Callback):\n",
    "  def on_epoch_end(self, epoch, logs={}):\n",
    "    if(logs.get('loss')<0.2):\n",
    "      print(\"\\nReached 60% accuracy so cancelling training!\")\n",
    "      self.model.stop_training = True\n",
    "\n",
    "callbacks = myCallback()\n",
    "mnist = tf.keras.datasets.fashion_mnist\n",
    "(training_images, training_labels), (test_images, test_labels) = mnist.load_data()\n",
    "training_images=training_images/255.0\n",
    "test_images=test_images/255.0\n",
    "model = tf.keras.models.Sequential([\n",
    "  tf.keras.layers.Flatten(),\n",
    "  tf.keras.layers.Dense(512, activation=tf.nn.relu),\n",
    "  tf.keras.layers.Dense(10, activation=tf.nn.softmax)\n",
    "])\n",
    "model.compile(optimizer='adam', loss='sparse_categorical_crossentropy')\n",
    "model.fit(training_images, training_labels, epochs=15, callbacks=[callbacks])\n",
    "\n",
    "print(model.evaluate(test_images, test_labels, verbose=0))\n",
    "\n",
    "classifications = model.predict(test_images)\n",
    "print(classifications[0], test_labels[0])"
   ]
  },
  {
   "cell_type": "code",
   "execution_count": null,
   "metadata": {},
   "outputs": [
    {
     "name": "stdout",
     "output_type": "stream",
     "text": [
      "2.0.0\n",
      "Train on 60000 samples\n",
      "Epoch 1/15\n",
      "60000/60000 [==============================] - 5s 84us/sample - loss: 0.4763 - accuracy: 0.8290\n",
      "Epoch 2/15\n",
      "60000/60000 [==============================] - 5s 80us/sample - loss: 0.3601 - accuracy: 0.8680\n",
      "Epoch 3/15\n",
      "60000/60000 [==============================] - 5s 82us/sample - loss: 0.3220 - accuracy: 0.8807\n",
      "Epoch 4/15\n",
      "60000/60000 [==============================] - 6s 93us/sample - loss: 0.2981 - accuracy: 0.8892\n",
      "Epoch 5/15\n",
      " 4416/60000 [=>............................] - ETA: 4s - loss: 0.2769 - accuracy: 0.8904"
     ]
    }
   ],
   "source": [
    "import tensorflow as tf\n",
    "print(tf.__version__)\n",
    "\n",
    "class myCallback(tf.keras.callbacks.Callback):\n",
    "    def on_epoch_end(self, epoch, logs={}):\n",
    "        if(logs.get('accuracy')>0.9):\n",
    "            print(\"\\nReached 60% accuracy so cancelling training!\")\n",
    "            self.model.stop_training = True\n",
    "\n",
    "callbacks = myCallback()\n",
    "mnist = tf.keras.datasets.fashion_mnist\n",
    "(training_images, training_labels), (test_images, test_labels) = mnist.load_data()\n",
    "training_images=training_images/255.0\n",
    "test_images=test_images/255.0\n",
    "model = tf.keras.models.Sequential([\n",
    "    tf.keras.layers.Flatten(),\n",
    "    tf.keras.layers.Dense(512, activation=tf.nn.relu),\n",
    "    tf.keras.layers.Dense(10, activation=tf.nn.softmax)\n",
    "])\n",
    "model.compile(optimizer='adam', loss='sparse_categorical_crossentropy', metrics=['accuracy'])\n",
    "model.fit(training_images, training_labels, epochs=15, callbacks=[callbacks])\n",
    "\n",
    "print(model.evaluate(test_images, test_labels, verbose=0))\n",
    "\n",
    "classifications = model.predict(test_images)\n",
    "print(classifications[0], test_labels[0])"
   ]
  },
  {
   "cell_type": "code",
   "execution_count": null,
   "metadata": {},
   "outputs": [],
   "source": []
  }
 ],
 "metadata": {
  "kernelspec": {
   "display_name": "python3",
   "language": "python",
   "name": "python3"
  },
  "language_info": {
   "codemirror_mode": {
    "name": "ipython",
    "version": 3
   },
   "file_extension": ".py",
   "mimetype": "text/x-python",
   "name": "python",
   "nbconvert_exporter": "python",
   "pygments_lexer": "ipython3",
   "version": "3.7.3"
  }
 },
 "nbformat": 4,
 "nbformat_minor": 2
}
